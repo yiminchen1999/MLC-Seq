{
  "cells": [
    {
      "cell_type": "code",
      "execution_count": 1,
      "id": "satisfied-teaching",
      "metadata": {
        "id": "satisfied-teaching",
        "outputId": "f6fea523-7b79-46c4-eafe-9772e7123904",
        "colab": {
          "base_uri": "https://localhost:8080/"
        }
      },
      "outputs": [
        {
          "output_type": "stream",
          "name": "stdout",
          "text": [
            "Mounted at /content/drive\n"
          ]
        }
      ],
      "source": [
        "import pandas as pd\n",
        "import matplotlib\n",
        "import plotly.express as px\n",
        "import matplotlib.pyplot as plt\n",
        "from google.colab import drive\n",
        "drive.mount('/content/drive')"
      ]
    },
    {
      "cell_type": "code",
      "execution_count": 2,
      "id": "chinese-aaron",
      "metadata": {
        "id": "chinese-aaron"
      },
      "outputs": [],
      "source": [
        "%run ../content/drive/MyDrive/MLC-Seq-main/modules/utils.ipynb\n",
        "%run ../content/drive/MyDrive/MLC-Seq-main/modules/ladder_separation.ipynb\n",
        "%run ../content/drive/MyDrive/MLC-Seq-main/modules/homology_search.ipynb\n",
        "%run ../content/drive/MyDrive/MLC-Seq-main/modules/mass_sum.ipynb\n",
        "%run ../content/drive/MyDrive/MLC-Seq-main/modules/gap_fill.ipynb\n",
        "%run ../content/drive/MyDrive/MLC-Seq-main/modules/ladder_complementation.ipynb"
      ]
    },
    {
      "cell_type": "code",
      "execution_count": 3,
      "id": "structured-hollywood",
      "metadata": {
        "id": "structured-hollywood",
        "outputId": "09e5bad3-de56-46cc-ee20-89080b8ba63c",
        "colab": {
          "base_uri": "https://localhost:8080/",
          "height": 542
        }
      },
      "outputs": [
        {
          "output_type": "display_data",
          "data": {
            "text/html": [
              "<html>\n",
              "<head><meta charset=\"utf-8\" /></head>\n",
              "<body>\n",
              "    <div>            <script src=\"https://cdnjs.cloudflare.com/ajax/libs/mathjax/2.7.5/MathJax.js?config=TeX-AMS-MML_SVG\"></script><script type=\"text/javascript\">if (window.MathJax && window.MathJax.Hub && window.MathJax.Hub.Config) {window.MathJax.Hub.Config({SVG: {font: \"STIX-Web\"}});}</script>                <script type=\"text/javascript\">window.PlotlyConfig = {MathJaxConfig: 'local'};</script>\n",
              "        <script charset=\"utf-8\" src=\"https://cdn.plot.ly/plotly-2.35.2.min.js\"></script>                <div id=\"3e52b474-09b5-44af-8980-56a6e10e4a05\" class=\"plotly-graph-div\" style=\"height:525px; width:100%;\"></div>            <script type=\"text/javascript\">                                    window.PLOTLYENV=window.PLOTLYENV || {};                                    if (document.getElementById(\"3e52b474-09b5-44af-8980-56a6e10e4a05\")) {                    Plotly.newPlot(                        \"3e52b474-09b5-44af-8980-56a6e10e4a05\",                        [{\"hovertemplate\":\"Mass=%{x}\\u003cbr\\u003eRT=%{y}\\u003cextra\\u003e\\u003c\\u002fextra\\u003e\",\"legendgroup\":\"\",\"marker\":{\"color\":\"#636efa\",\"symbol\":\"circle\"},\"mode\":\"markers\",\"name\":\"\",\"orientation\":\"v\",\"showlegend\":false,\"x\":[24018.5511492489,23980.540191723,24056.4922782955,24039.5035367448,23942.5240038815,24075.4798345418,23962.5367769718,23678.4453242359,23734.4220404623,23941.5860130194,23698.4131673283,24381.5999503083,23715.4274893646,23622.4750174868,24095.4332413334,24133.4287279039,24115.4693060109,23753.3771782628,24398.593097376,24586.6616080881,24362.6060012393,24439.5907932787,24329.6177288397,24623.6830750574,24307.5842533381,24289.5967379754,24485.6124076883,24320.6199037895,24419.5939043642,24170.4876821953,24150.4697580577,23900.3989557068,23988.5468605986,24343.603829806,24330.5929636338,24724.7753531051,24389.583699828,23773.3393310895,24363.5832277866,24349.6227302566,23661.518547968,23639.4848700536,24290.5951508046,23862.3905911369,24448.5958877064,23824.4224753527,24030.4808703328,23844.4108479677,24667.874981029,24515.6145372953,24570.6882218419,24516.5785574424,23882.3976136689,24569.7210930943,24540.6684974813,24467.5738554988,24735.7001628184,24878.6728565011,24654.5359618956,24597.6767958782,24805.8395845282,24779.6704089918,23761.3420626203,23775.3690628804,23806.4723791641,23662.4281106253,24477.6298372014,24660.6615669331,24008.5296311367,24016.2352853914,24077.4310592752,24280.6079641918,24147.5691717549,23724.4315392548,27520.0466249271,24201.5622715207,24476.638863764,25177.7958095352,27412.0228265221,24560.671120769,24297.5064331583,27482.0880853552,23785.5024460545,24636.4746807584,27431.0166956284,24114.3875424278,24257.5892828847,27597.90333794,27374.1149643621,25217.7907794833,24838.7711005732,23705.4260725921,24915.621760331,27449.0245863046,24131.443816816,24148.36739899,23910.4690747993,25080.890421936,24203.4734348169,27502.0417709115,24341.575402026,23695.4159855701,27613.9875563273,25720.7942610747,23634.4681762922,23869.3914385335,24532.6567744425,23831.3684037773,27632.9082343404,25138.8889212276,27633.9322713972,27575.9286667087,24877.7404247212,23752.3409656158,25755.044751813,27555.9937379747,23782.5412340029,26670.4927548583,25081.9254996976,24840.8124008504,27393.0482990681,27356.0668068712,25141.8309843986,27455.993694896,27561.8576341831,24778.7748034098,25271.7327355049,27521.9859364127,27529.980100562,25851.4892352027,26676.2097949985,26600.813706465,27375.0686681383,23890.4515150169,27507.9993653657,25677.9167582779,24772.7228185966,27587.9138497009,27504.9068023363,24792.7248061386,27373.0058571351],\"xaxis\":\"x\",\"y\":[7.19865555322965,7.15191688494682,7.19865555322965,7.19865555322965,7.19865555322965,7.19865555322965,7.19865555322965,7.10327914512952,7.15191688494682,7.2504263774236,7.15191688494682,7.19865555322965,7.15191688494682,7.15191688494682,7.10327914512952,7.19865555322965,7.15191688494682,7.10327914512952,7.19865555322965,7.30238198595047,7.19865555322965,7.2504263774236,7.19865555322965,7.35002118504842,7.15191688494682,7.19865555322965,7.2504263774236,7.35002118504842,7.2504263774236,7.19865555322965,7.19865555322965,6.95145300186475,7.19865555322965,7.35002118504842,7.30238198595047,7.79750695185661,7.19865555322965,7.15191688494682,7.35002118504842,7.2504263774236,7.19865555322965,7.10327914512952,7.30238198595047,6.95145300186475,7.19865555322965,6.95145300186475,7.15191688494682,6.95145300186475,7.2504263774236,7.30238198595047,7.19865555322965,7.15191688494682,6.95145300186475,7.19865555322965,7.35002118504842,7.19865555322965,7.30238198595047,7.30238198595047,7.30238198595047,7.35002118504842,7.30238198595047,7.35002118504842,7.10327914512952,7.19865555322965,6.95145300186475,7.15191688494682,7.15191688494682,7.35002118504842,7.19865555322965,6.95145300186475,7.19865555322965,7.35002118504842,7.35002118504842,7.15191688494682,7.85269274271329,7.35002118504842,7.19865555322965,7.79750695185661,7.49892911868095,7.40071905212402,7.10327914512952,7.89996697661082,6.9027061934948,7.19865555322965,7.54449311054548,7.10327914512952,7.35002118504842,7.89996697661082,7.49892911868095,7.79750695185661,7.74971290187836,7.04965833581289,7.40071905212402,7.54449311054548,7.15191688494682,7.19865555322965,7.10327914512952,7.79750695185661,7.30238198595047,7.85269274271329,7.19865555322965,7.10327914512952,7.85269274271329,7.85269274271329,7.2504263774236,7.15191688494682,7.30238198595047,7.10327914512952,7.89996697661082,7.85269274271329,7.85269274271329,7.85269274271329,7.44931569453875,7.15191688494682,7.85269274271329,7.89996697661082,7.69833949364026,7.85269274271329,7.79750695185661,7.35002118504842,7.49892911868095,7.49892911868095,7.79750695185661,7.49892911868095,7.49892911868095,7.79750695185661,7.85269274271329,7.85269274271329,7.85269274271329,7.79750695185661,7.54449311054548,7.85269274271329,7.60008546865781,7.65281496005058,7.85269274271329,7.44931569453875,7.79750695185661,7.79750695185661,7.65281496005058,7.85269274271329,7.60008546865781],\"yaxis\":\"y\",\"type\":\"scatter\"}],                        {\"template\":{\"data\":{\"histogram2dcontour\":[{\"type\":\"histogram2dcontour\",\"colorbar\":{\"outlinewidth\":0,\"ticks\":\"\"},\"colorscale\":[[0.0,\"#0d0887\"],[0.1111111111111111,\"#46039f\"],[0.2222222222222222,\"#7201a8\"],[0.3333333333333333,\"#9c179e\"],[0.4444444444444444,\"#bd3786\"],[0.5555555555555556,\"#d8576b\"],[0.6666666666666666,\"#ed7953\"],[0.7777777777777778,\"#fb9f3a\"],[0.8888888888888888,\"#fdca26\"],[1.0,\"#f0f921\"]]}],\"choropleth\":[{\"type\":\"choropleth\",\"colorbar\":{\"outlinewidth\":0,\"ticks\":\"\"}}],\"histogram2d\":[{\"type\":\"histogram2d\",\"colorbar\":{\"outlinewidth\":0,\"ticks\":\"\"},\"colorscale\":[[0.0,\"#0d0887\"],[0.1111111111111111,\"#46039f\"],[0.2222222222222222,\"#7201a8\"],[0.3333333333333333,\"#9c179e\"],[0.4444444444444444,\"#bd3786\"],[0.5555555555555556,\"#d8576b\"],[0.6666666666666666,\"#ed7953\"],[0.7777777777777778,\"#fb9f3a\"],[0.8888888888888888,\"#fdca26\"],[1.0,\"#f0f921\"]]}],\"heatmap\":[{\"type\":\"heatmap\",\"colorbar\":{\"outlinewidth\":0,\"ticks\":\"\"},\"colorscale\":[[0.0,\"#0d0887\"],[0.1111111111111111,\"#46039f\"],[0.2222222222222222,\"#7201a8\"],[0.3333333333333333,\"#9c179e\"],[0.4444444444444444,\"#bd3786\"],[0.5555555555555556,\"#d8576b\"],[0.6666666666666666,\"#ed7953\"],[0.7777777777777778,\"#fb9f3a\"],[0.8888888888888888,\"#fdca26\"],[1.0,\"#f0f921\"]]}],\"heatmapgl\":[{\"type\":\"heatmapgl\",\"colorbar\":{\"outlinewidth\":0,\"ticks\":\"\"},\"colorscale\":[[0.0,\"#0d0887\"],[0.1111111111111111,\"#46039f\"],[0.2222222222222222,\"#7201a8\"],[0.3333333333333333,\"#9c179e\"],[0.4444444444444444,\"#bd3786\"],[0.5555555555555556,\"#d8576b\"],[0.6666666666666666,\"#ed7953\"],[0.7777777777777778,\"#fb9f3a\"],[0.8888888888888888,\"#fdca26\"],[1.0,\"#f0f921\"]]}],\"contourcarpet\":[{\"type\":\"contourcarpet\",\"colorbar\":{\"outlinewidth\":0,\"ticks\":\"\"}}],\"contour\":[{\"type\":\"contour\",\"colorbar\":{\"outlinewidth\":0,\"ticks\":\"\"},\"colorscale\":[[0.0,\"#0d0887\"],[0.1111111111111111,\"#46039f\"],[0.2222222222222222,\"#7201a8\"],[0.3333333333333333,\"#9c179e\"],[0.4444444444444444,\"#bd3786\"],[0.5555555555555556,\"#d8576b\"],[0.6666666666666666,\"#ed7953\"],[0.7777777777777778,\"#fb9f3a\"],[0.8888888888888888,\"#fdca26\"],[1.0,\"#f0f921\"]]}],\"surface\":[{\"type\":\"surface\",\"colorbar\":{\"outlinewidth\":0,\"ticks\":\"\"},\"colorscale\":[[0.0,\"#0d0887\"],[0.1111111111111111,\"#46039f\"],[0.2222222222222222,\"#7201a8\"],[0.3333333333333333,\"#9c179e\"],[0.4444444444444444,\"#bd3786\"],[0.5555555555555556,\"#d8576b\"],[0.6666666666666666,\"#ed7953\"],[0.7777777777777778,\"#fb9f3a\"],[0.8888888888888888,\"#fdca26\"],[1.0,\"#f0f921\"]]}],\"mesh3d\":[{\"type\":\"mesh3d\",\"colorbar\":{\"outlinewidth\":0,\"ticks\":\"\"}}],\"scatter\":[{\"fillpattern\":{\"fillmode\":\"overlay\",\"size\":10,\"solidity\":0.2},\"type\":\"scatter\"}],\"parcoords\":[{\"type\":\"parcoords\",\"line\":{\"colorbar\":{\"outlinewidth\":0,\"ticks\":\"\"}}}],\"scatterpolargl\":[{\"type\":\"scatterpolargl\",\"marker\":{\"colorbar\":{\"outlinewidth\":0,\"ticks\":\"\"}}}],\"bar\":[{\"error_x\":{\"color\":\"#2a3f5f\"},\"error_y\":{\"color\":\"#2a3f5f\"},\"marker\":{\"line\":{\"color\":\"#E5ECF6\",\"width\":0.5},\"pattern\":{\"fillmode\":\"overlay\",\"size\":10,\"solidity\":0.2}},\"type\":\"bar\"}],\"scattergeo\":[{\"type\":\"scattergeo\",\"marker\":{\"colorbar\":{\"outlinewidth\":0,\"ticks\":\"\"}}}],\"scatterpolar\":[{\"type\":\"scatterpolar\",\"marker\":{\"colorbar\":{\"outlinewidth\":0,\"ticks\":\"\"}}}],\"histogram\":[{\"marker\":{\"pattern\":{\"fillmode\":\"overlay\",\"size\":10,\"solidity\":0.2}},\"type\":\"histogram\"}],\"scattergl\":[{\"type\":\"scattergl\",\"marker\":{\"colorbar\":{\"outlinewidth\":0,\"ticks\":\"\"}}}],\"scatter3d\":[{\"type\":\"scatter3d\",\"line\":{\"colorbar\":{\"outlinewidth\":0,\"ticks\":\"\"}},\"marker\":{\"colorbar\":{\"outlinewidth\":0,\"ticks\":\"\"}}}],\"scattermapbox\":[{\"type\":\"scattermapbox\",\"marker\":{\"colorbar\":{\"outlinewidth\":0,\"ticks\":\"\"}}}],\"scatterternary\":[{\"type\":\"scatterternary\",\"marker\":{\"colorbar\":{\"outlinewidth\":0,\"ticks\":\"\"}}}],\"scattercarpet\":[{\"type\":\"scattercarpet\",\"marker\":{\"colorbar\":{\"outlinewidth\":0,\"ticks\":\"\"}}}],\"carpet\":[{\"aaxis\":{\"endlinecolor\":\"#2a3f5f\",\"gridcolor\":\"white\",\"linecolor\":\"white\",\"minorgridcolor\":\"white\",\"startlinecolor\":\"#2a3f5f\"},\"baxis\":{\"endlinecolor\":\"#2a3f5f\",\"gridcolor\":\"white\",\"linecolor\":\"white\",\"minorgridcolor\":\"white\",\"startlinecolor\":\"#2a3f5f\"},\"type\":\"carpet\"}],\"table\":[{\"cells\":{\"fill\":{\"color\":\"#EBF0F8\"},\"line\":{\"color\":\"white\"}},\"header\":{\"fill\":{\"color\":\"#C8D4E3\"},\"line\":{\"color\":\"white\"}},\"type\":\"table\"}],\"barpolar\":[{\"marker\":{\"line\":{\"color\":\"#E5ECF6\",\"width\":0.5},\"pattern\":{\"fillmode\":\"overlay\",\"size\":10,\"solidity\":0.2}},\"type\":\"barpolar\"}],\"pie\":[{\"automargin\":true,\"type\":\"pie\"}]},\"layout\":{\"autotypenumbers\":\"strict\",\"colorway\":[\"#636efa\",\"#EF553B\",\"#00cc96\",\"#ab63fa\",\"#FFA15A\",\"#19d3f3\",\"#FF6692\",\"#B6E880\",\"#FF97FF\",\"#FECB52\"],\"font\":{\"color\":\"#2a3f5f\"},\"hovermode\":\"closest\",\"hoverlabel\":{\"align\":\"left\"},\"paper_bgcolor\":\"white\",\"plot_bgcolor\":\"#E5ECF6\",\"polar\":{\"bgcolor\":\"#E5ECF6\",\"angularaxis\":{\"gridcolor\":\"white\",\"linecolor\":\"white\",\"ticks\":\"\"},\"radialaxis\":{\"gridcolor\":\"white\",\"linecolor\":\"white\",\"ticks\":\"\"}},\"ternary\":{\"bgcolor\":\"#E5ECF6\",\"aaxis\":{\"gridcolor\":\"white\",\"linecolor\":\"white\",\"ticks\":\"\"},\"baxis\":{\"gridcolor\":\"white\",\"linecolor\":\"white\",\"ticks\":\"\"},\"caxis\":{\"gridcolor\":\"white\",\"linecolor\":\"white\",\"ticks\":\"\"}},\"coloraxis\":{\"colorbar\":{\"outlinewidth\":0,\"ticks\":\"\"}},\"colorscale\":{\"sequential\":[[0.0,\"#0d0887\"],[0.1111111111111111,\"#46039f\"],[0.2222222222222222,\"#7201a8\"],[0.3333333333333333,\"#9c179e\"],[0.4444444444444444,\"#bd3786\"],[0.5555555555555556,\"#d8576b\"],[0.6666666666666666,\"#ed7953\"],[0.7777777777777778,\"#fb9f3a\"],[0.8888888888888888,\"#fdca26\"],[1.0,\"#f0f921\"]],\"sequentialminus\":[[0.0,\"#0d0887\"],[0.1111111111111111,\"#46039f\"],[0.2222222222222222,\"#7201a8\"],[0.3333333333333333,\"#9c179e\"],[0.4444444444444444,\"#bd3786\"],[0.5555555555555556,\"#d8576b\"],[0.6666666666666666,\"#ed7953\"],[0.7777777777777778,\"#fb9f3a\"],[0.8888888888888888,\"#fdca26\"],[1.0,\"#f0f921\"]],\"diverging\":[[0,\"#8e0152\"],[0.1,\"#c51b7d\"],[0.2,\"#de77ae\"],[0.3,\"#f1b6da\"],[0.4,\"#fde0ef\"],[0.5,\"#f7f7f7\"],[0.6,\"#e6f5d0\"],[0.7,\"#b8e186\"],[0.8,\"#7fbc41\"],[0.9,\"#4d9221\"],[1,\"#276419\"]]},\"xaxis\":{\"gridcolor\":\"white\",\"linecolor\":\"white\",\"ticks\":\"\",\"title\":{\"standoff\":15},\"zerolinecolor\":\"white\",\"automargin\":true,\"zerolinewidth\":2},\"yaxis\":{\"gridcolor\":\"white\",\"linecolor\":\"white\",\"ticks\":\"\",\"title\":{\"standoff\":15},\"zerolinecolor\":\"white\",\"automargin\":true,\"zerolinewidth\":2},\"scene\":{\"xaxis\":{\"backgroundcolor\":\"#E5ECF6\",\"gridcolor\":\"white\",\"linecolor\":\"white\",\"showbackground\":true,\"ticks\":\"\",\"zerolinecolor\":\"white\",\"gridwidth\":2},\"yaxis\":{\"backgroundcolor\":\"#E5ECF6\",\"gridcolor\":\"white\",\"linecolor\":\"white\",\"showbackground\":true,\"ticks\":\"\",\"zerolinecolor\":\"white\",\"gridwidth\":2},\"zaxis\":{\"backgroundcolor\":\"#E5ECF6\",\"gridcolor\":\"white\",\"linecolor\":\"white\",\"showbackground\":true,\"ticks\":\"\",\"zerolinecolor\":\"white\",\"gridwidth\":2}},\"shapedefaults\":{\"line\":{\"color\":\"#2a3f5f\"}},\"annotationdefaults\":{\"arrowcolor\":\"#2a3f5f\",\"arrowhead\":0,\"arrowwidth\":1},\"geo\":{\"bgcolor\":\"white\",\"landcolor\":\"#E5ECF6\",\"subunitcolor\":\"white\",\"showland\":true,\"showlakes\":true,\"lakecolor\":\"white\"},\"title\":{\"x\":0.05},\"mapbox\":{\"style\":\"light\"}}},\"xaxis\":{\"anchor\":\"y\",\"domain\":[0.0,1.0],\"title\":{\"text\":\"Mass\"}},\"yaxis\":{\"anchor\":\"x\",\"domain\":[0.0,1.0],\"title\":{\"text\":\"RT\"}},\"legend\":{\"tracegroupgap\":0},\"margin\":{\"t\":60}},                        {\"responsive\": true}                    ).then(function(){\n",
              "                            \n",
              "var gd = document.getElementById('3e52b474-09b5-44af-8980-56a6e10e4a05');\n",
              "var x = new MutationObserver(function (mutations, observer) {{\n",
              "        var display = window.getComputedStyle(gd).display;\n",
              "        if (!display || display === 'none') {{\n",
              "            console.log([gd, 'removed!']);\n",
              "            Plotly.purge(gd);\n",
              "            observer.disconnect();\n",
              "        }}\n",
              "}});\n",
              "\n",
              "// Listen for the removal of the full notebook cells\n",
              "var notebookContainer = gd.closest('#notebook-container');\n",
              "if (notebookContainer) {{\n",
              "    x.observe(notebookContainer, {childList: true});\n",
              "}}\n",
              "\n",
              "// Listen for the clearing of the current output cell\n",
              "var outputEl = gd.closest('.output');\n",
              "if (outputEl) {{\n",
              "    x.observe(outputEl, {childList: true});\n",
              "}}\n",
              "\n",
              "                        })                };                            </script>        </div>\n",
              "</body>\n",
              "</html>"
            ]
          },
          "metadata": {}
        }
      ],
      "source": [
        "# replace ctrl_sample to switch to other control samples.\n",
        "ctrl_sample = '/content/drive/MyDrive/MLC-Seq-main/samples/total_tRNA/Control1/20230428_total_ctrl_04192306_filtered.xlsx'\n",
        "\n",
        "df_ctrl = load_data(ctrl_sample)\n",
        "plotly_zone(df_ctrl)"
      ]
    },
    {
      "cell_type": "code",
      "execution_count": 5,
      "id": "breeding-template",
      "metadata": {
        "id": "breeding-template",
        "outputId": "a71e1a2b-4a2f-4457-d0c3-dff8eb3e4698",
        "colab": {
          "base_uri": "https://localhost:8080/",
          "height": 542
        }
      },
      "outputs": [
        {
          "output_type": "display_data",
          "data": {
            "text/html": [
              "<html>\n",
              "<head><meta charset=\"utf-8\" /></head>\n",
              "<body>\n",
              "    <div>            <script src=\"https://cdnjs.cloudflare.com/ajax/libs/mathjax/2.7.5/MathJax.js?config=TeX-AMS-MML_SVG\"></script><script type=\"text/javascript\">if (window.MathJax && window.MathJax.Hub && window.MathJax.Hub.Config) {window.MathJax.Hub.Config({SVG: {font: \"STIX-Web\"}});}</script>                <script type=\"text/javascript\">window.PlotlyConfig = {MathJaxConfig: 'local'};</script>\n",
              "        <script charset=\"utf-8\" src=\"https://cdn.plot.ly/plotly-2.35.2.min.js\"></script>                <div id=\"9fe986b0-655c-4bea-8098-6911b524dd6b\" class=\"plotly-graph-div\" style=\"height:525px; width:100%;\"></div>            <script type=\"text/javascript\">                                    window.PLOTLYENV=window.PLOTLYENV || {};                                    if (document.getElementById(\"9fe986b0-655c-4bea-8098-6911b524dd6b\")) {                    Plotly.newPlot(                        \"9fe986b0-655c-4bea-8098-6911b524dd6b\",                        [{\"mode\":\"markers\",\"x\":[27529.980100562,23980.540191723,24039.5035367448,23890.4515150169,27507.9993653657,23678.4453242359,24772.7228185966,23734.4220404623,24792.7248061386,24133.4287279039,24115.4693060109,24586.6616080881,24362.6060012393,24439.5907932787,24329.6177288397,24307.5842533381,24419.5939043642,24343.603829806,24724.7753531051,24363.5832277866,24349.6227302566,23862.3905911369,24448.5958877064,24030.4808703328,24667.874981029,24570.6882218419,24516.5785574424,23882.3976136689,24569.7210930943,24467.5738554988,24654.5359618956,24597.6767958782,24805.8395845282,23761.3420626203,23775.3690628804,23662.4281106253,24477.6298372014,24008.5296311367,24016.2352853914,24147.5691717549,23724.4315392548,24476.638863764,24560.671120769,23785.5024460545,24636.4746807584,24114.3875424278,24257.5892828847,27597.90333794,24915.621760331,24131.443816816,24148.36739899,23910.4690747993,24203.4734348169,27502.0417709115,27613.9875563273,23634.4681762922,24532.6567744425,27575.9286667087,23752.3409656158,27561.8576341831,24778.7748034098,27521.9859364127],\"y\":[4960.48,702496.06,594109.35,3753.1,3624.79,325875.2,3180.74,323821.05,2482.83,227778.03,222399.18,180510.02,159651.32,150197.65,138628.67,131271.26,118705.77,102713.38,98587.89,96955.54,96503.69,89779.54,89666.59,87728.32,83195.25,73470.07,71275.28,66608.05,64421.36,57294.98,55380.36,55039.81,49403.01,46826.29,44707.34,43794.68,42930.62,41006.93,40519.01,37268.92,36539.31,34344.86,32001.13,29547.83,27977.8,27684.49,27644.49,26493.01,23003.24,20933.63,20082.89,19898.92,19060.83,17286.54,15188.89,13798.51,12771.81,9757.09,8762.1,6546.04,6322.36,5225.37],\"type\":\"scatter\"},{\"line\":{\"color\":\"pink\"},\"mode\":\"lines+markers\",\"name\":\"C\",\"x\":[24039.5035367448,23734.4220404623],\"y\":[594109.35,323821.05],\"type\":\"scatter\"},{\"line\":{\"color\":\"pink\"},\"mode\":\"lines+markers\",\"name\":\"C\",\"x\":[24419.5939043642,24114.3875424278],\"y\":[118705.77,27684.49],\"type\":\"scatter\"},{\"line\":{\"color\":\"pink\"},\"mode\":\"lines+markers\",\"name\":\"C\",\"x\":[24419.5939043642,24724.7753531051],\"y\":[118705.77,98587.89],\"type\":\"scatter\"},{\"line\":{\"color\":\"pink\"},\"mode\":\"lines+markers\",\"name\":\"C\",\"x\":[24362.6060012393,24667.874981029],\"y\":[159651.32,83195.25],\"type\":\"scatter\"},{\"line\":{\"color\":\"pink\"},\"mode\":\"lines+markers\",\"name\":\"C\",\"x\":[24349.6227302566,24654.5359618956],\"y\":[96503.69,55380.36],\"type\":\"scatter\"},{\"line\":{\"color\":\"pink\"},\"mode\":\"lines+markers\",\"name\":\"C\",\"x\":[24772.7228185966,24467.5738554988],\"y\":[3180.74,57294.98],\"type\":\"scatter\"},{\"line\":{\"color\":\"pink\"},\"mode\":\"lines+markers\",\"name\":\"A\",\"x\":[24586.6616080881,24257.5892828847],\"y\":[180510.02,27644.49],\"type\":\"scatter\"},{\"line\":{\"color\":\"pink\"},\"mode\":\"lines+markers\",\"name\":\"A\",\"x\":[24805.8395845282,24476.638863764],\"y\":[49403.01,34344.86],\"type\":\"scatter\"},{\"line\":{\"color\":\"pink\"},\"mode\":\"lines+markers\",\"name\":\"A\",\"x\":[24477.6298372014,24148.36739899],\"y\":[42930.62,20082.89],\"type\":\"scatter\"},{\"line\":{\"color\":\"pink\"},\"mode\":\"lines+markers\",\"name\":\"A\",\"x\":[24147.5691717549,24476.638863764],\"y\":[37268.92,34344.86],\"type\":\"scatter\"},{\"line\":{\"color\":\"pink\"},\"mode\":\"lines+markers\",\"name\":\"A\",\"x\":[24307.5842533381,24636.4746807584],\"y\":[131271.26,27977.8],\"type\":\"scatter\"},{\"line\":{\"color\":\"pink\"},\"mode\":\"lines+markers\",\"name\":\"A\",\"x\":[23785.5024460545,24114.3875424278],\"y\":[29547.83,27684.49],\"type\":\"scatter\"},{\"line\":{\"color\":\"pink\"},\"mode\":\"lines+markers\",\"name\":\"A\",\"x\":[24586.6616080881,24915.621760331],\"y\":[180510.02,23003.24],\"type\":\"scatter\"},{\"line\":{\"color\":\"pink\"},\"mode\":\"lines+markers\",\"name\":\"A\",\"x\":[24203.4734348169,24532.6567744425],\"y\":[19060.83,12771.81],\"type\":\"scatter\"},{\"line\":{\"color\":\"pink\"},\"mode\":\"lines+markers\",\"name\":\"Ox\",\"x\":[23678.4453242359,23662.4281106253],\"y\":[325875.2,43794.68],\"type\":\"scatter\"},{\"line\":{\"color\":\"pink\"},\"mode\":\"lines+markers\",\"name\":\"Ox\",\"x\":[24586.6616080881,24570.6882218419],\"y\":[180510.02,73470.07],\"type\":\"scatter\"},{\"line\":{\"color\":\"pink\"},\"mode\":\"lines+markers\",\"name\":\"Ox\",\"x\":[24147.5691717549,24131.443816816],\"y\":[37268.92,20933.63],\"type\":\"scatter\"},{\"line\":{\"color\":\"pink\"},\"mode\":\"lines+markers\",\"name\":\"Ox\",\"x\":[24115.4693060109,24131.443816816],\"y\":[222399.18,20933.63],\"type\":\"scatter\"},{\"line\":{\"color\":\"pink\"},\"mode\":\"lines+markers\",\"name\":\"Ox\",\"x\":[27597.90333794,27613.9875563273],\"y\":[26493.01,15188.89],\"type\":\"scatter\"},{\"line\":{\"color\":\"pink\"},\"mode\":\"lines+markers\",\"name\":\"Ox\",\"x\":[24516.5785574424,24532.6567744425],\"y\":[71275.28,12771.81],\"type\":\"scatter\"},{\"line\":{\"color\":\"pink\"},\"mode\":\"lines+markers\",\"name\":\"Me\",\"x\":[24329.6177288397,24343.603829806],\"y\":[138628.67,102713.38],\"type\":\"scatter\"},{\"line\":{\"color\":\"pink\"},\"mode\":\"lines+markers\",\"name\":\"Me\",\"x\":[24363.5832277866,24349.6227302566],\"y\":[96955.54,96503.69],\"type\":\"scatter\"},{\"line\":{\"color\":\"pink\"},\"mode\":\"lines+markers\",\"name\":\"Me\",\"x\":[24030.4808703328,24016.2352853914],\"y\":[87728.32,40519.01],\"type\":\"scatter\"},{\"line\":{\"color\":\"pink\"},\"mode\":\"lines+markers\",\"name\":\"Me\",\"x\":[23761.3420626203,23775.3690628804],\"y\":[46826.29,44707.34],\"type\":\"scatter\"},{\"line\":{\"color\":\"pink\"},\"mode\":\"lines+markers\",\"name\":\"Me\",\"x\":[24133.4287279039,24147.5691717549],\"y\":[227778.03,37268.92],\"type\":\"scatter\"},{\"line\":{\"color\":\"pink\"},\"mode\":\"lines+markers\",\"name\":\"Me\",\"x\":[27575.9286667087,27561.8576341831],\"y\":[9757.09,6546.04],\"type\":\"scatter\"},{\"line\":{\"color\":\"pink\"},\"mode\":\"lines+markers\",\"name\":\"Me\",\"x\":[27507.9993653657,27521.9859364127],\"y\":[3624.79,5225.37],\"type\":\"scatter\"},{\"line\":{\"color\":\"pink\"},\"mode\":\"lines+markers\",\"name\":\"Me\",\"x\":[24792.7248061386,24778.7748034098],\"y\":[2482.83,6322.36],\"type\":\"scatter\"},{\"line\":{\"color\":\"pink\"},\"mode\":\"lines+markers\",\"name\":\"2*Me\",\"x\":[24439.5907932787,24467.5738554988],\"y\":[150197.65,57294.98],\"type\":\"scatter\"},{\"line\":{\"color\":\"pink\"},\"mode\":\"lines+markers\",\"name\":\"2*Me\",\"x\":[24569.7210930943,24597.6767958782],\"y\":[64421.36,55039.81],\"type\":\"scatter\"},{\"line\":{\"color\":\"pink\"},\"mode\":\"lines+markers\",\"name\":\"2*Me\",\"x\":[23662.4281106253,23634.4681762922],\"y\":[43794.68,13798.51],\"type\":\"scatter\"},{\"line\":{\"color\":\"pink\"},\"mode\":\"lines+markers\",\"name\":\"2*Me\",\"x\":[23980.540191723,24008.5296311367],\"y\":[702496.06,41006.93],\"type\":\"scatter\"},{\"line\":{\"color\":\"pink\"},\"mode\":\"lines+markers\",\"name\":\"2*Me\",\"x\":[24448.5958877064,24476.638863764],\"y\":[89666.59,34344.86],\"type\":\"scatter\"},{\"line\":{\"color\":\"pink\"},\"mode\":\"lines+markers\",\"name\":\"2*Me\",\"x\":[24560.671120769,24532.6567744425],\"y\":[32001.13,12771.81],\"type\":\"scatter\"},{\"line\":{\"color\":\"pink\"},\"mode\":\"lines+markers\",\"name\":\"2*Me\",\"x\":[23882.3976136689,23910.4690747993],\"y\":[66608.05,19898.92],\"type\":\"scatter\"},{\"line\":{\"color\":\"pink\"},\"mode\":\"lines+markers\",\"name\":\"2*Me\",\"x\":[23724.4315392548,23752.3409656158],\"y\":[36539.31,8762.1],\"type\":\"scatter\"},{\"line\":{\"color\":\"pink\"},\"mode\":\"lines+markers\",\"name\":\"2*Me\",\"x\":[27529.980100562,27502.0417709115],\"y\":[4960.48,17286.54],\"type\":\"scatter\"},{\"line\":{\"color\":\"pink\"},\"mode\":\"lines+markers\",\"name\":\"2*Me\",\"x\":[23890.4515150169,23862.3905911369],\"y\":[3753.1,89779.54],\"type\":\"scatter\"}],                        {\"template\":{\"data\":{\"histogram2dcontour\":[{\"type\":\"histogram2dcontour\",\"colorbar\":{\"outlinewidth\":0,\"ticks\":\"\"},\"colorscale\":[[0.0,\"#0d0887\"],[0.1111111111111111,\"#46039f\"],[0.2222222222222222,\"#7201a8\"],[0.3333333333333333,\"#9c179e\"],[0.4444444444444444,\"#bd3786\"],[0.5555555555555556,\"#d8576b\"],[0.6666666666666666,\"#ed7953\"],[0.7777777777777778,\"#fb9f3a\"],[0.8888888888888888,\"#fdca26\"],[1.0,\"#f0f921\"]]}],\"choropleth\":[{\"type\":\"choropleth\",\"colorbar\":{\"outlinewidth\":0,\"ticks\":\"\"}}],\"histogram2d\":[{\"type\":\"histogram2d\",\"colorbar\":{\"outlinewidth\":0,\"ticks\":\"\"},\"colorscale\":[[0.0,\"#0d0887\"],[0.1111111111111111,\"#46039f\"],[0.2222222222222222,\"#7201a8\"],[0.3333333333333333,\"#9c179e\"],[0.4444444444444444,\"#bd3786\"],[0.5555555555555556,\"#d8576b\"],[0.6666666666666666,\"#ed7953\"],[0.7777777777777778,\"#fb9f3a\"],[0.8888888888888888,\"#fdca26\"],[1.0,\"#f0f921\"]]}],\"heatmap\":[{\"type\":\"heatmap\",\"colorbar\":{\"outlinewidth\":0,\"ticks\":\"\"},\"colorscale\":[[0.0,\"#0d0887\"],[0.1111111111111111,\"#46039f\"],[0.2222222222222222,\"#7201a8\"],[0.3333333333333333,\"#9c179e\"],[0.4444444444444444,\"#bd3786\"],[0.5555555555555556,\"#d8576b\"],[0.6666666666666666,\"#ed7953\"],[0.7777777777777778,\"#fb9f3a\"],[0.8888888888888888,\"#fdca26\"],[1.0,\"#f0f921\"]]}],\"heatmapgl\":[{\"type\":\"heatmapgl\",\"colorbar\":{\"outlinewidth\":0,\"ticks\":\"\"},\"colorscale\":[[0.0,\"#0d0887\"],[0.1111111111111111,\"#46039f\"],[0.2222222222222222,\"#7201a8\"],[0.3333333333333333,\"#9c179e\"],[0.4444444444444444,\"#bd3786\"],[0.5555555555555556,\"#d8576b\"],[0.6666666666666666,\"#ed7953\"],[0.7777777777777778,\"#fb9f3a\"],[0.8888888888888888,\"#fdca26\"],[1.0,\"#f0f921\"]]}],\"contourcarpet\":[{\"type\":\"contourcarpet\",\"colorbar\":{\"outlinewidth\":0,\"ticks\":\"\"}}],\"contour\":[{\"type\":\"contour\",\"colorbar\":{\"outlinewidth\":0,\"ticks\":\"\"},\"colorscale\":[[0.0,\"#0d0887\"],[0.1111111111111111,\"#46039f\"],[0.2222222222222222,\"#7201a8\"],[0.3333333333333333,\"#9c179e\"],[0.4444444444444444,\"#bd3786\"],[0.5555555555555556,\"#d8576b\"],[0.6666666666666666,\"#ed7953\"],[0.7777777777777778,\"#fb9f3a\"],[0.8888888888888888,\"#fdca26\"],[1.0,\"#f0f921\"]]}],\"surface\":[{\"type\":\"surface\",\"colorbar\":{\"outlinewidth\":0,\"ticks\":\"\"},\"colorscale\":[[0.0,\"#0d0887\"],[0.1111111111111111,\"#46039f\"],[0.2222222222222222,\"#7201a8\"],[0.3333333333333333,\"#9c179e\"],[0.4444444444444444,\"#bd3786\"],[0.5555555555555556,\"#d8576b\"],[0.6666666666666666,\"#ed7953\"],[0.7777777777777778,\"#fb9f3a\"],[0.8888888888888888,\"#fdca26\"],[1.0,\"#f0f921\"]]}],\"mesh3d\":[{\"type\":\"mesh3d\",\"colorbar\":{\"outlinewidth\":0,\"ticks\":\"\"}}],\"scatter\":[{\"fillpattern\":{\"fillmode\":\"overlay\",\"size\":10,\"solidity\":0.2},\"type\":\"scatter\"}],\"parcoords\":[{\"type\":\"parcoords\",\"line\":{\"colorbar\":{\"outlinewidth\":0,\"ticks\":\"\"}}}],\"scatterpolargl\":[{\"type\":\"scatterpolargl\",\"marker\":{\"colorbar\":{\"outlinewidth\":0,\"ticks\":\"\"}}}],\"bar\":[{\"error_x\":{\"color\":\"#2a3f5f\"},\"error_y\":{\"color\":\"#2a3f5f\"},\"marker\":{\"line\":{\"color\":\"#E5ECF6\",\"width\":0.5},\"pattern\":{\"fillmode\":\"overlay\",\"size\":10,\"solidity\":0.2}},\"type\":\"bar\"}],\"scattergeo\":[{\"type\":\"scattergeo\",\"marker\":{\"colorbar\":{\"outlinewidth\":0,\"ticks\":\"\"}}}],\"scatterpolar\":[{\"type\":\"scatterpolar\",\"marker\":{\"colorbar\":{\"outlinewidth\":0,\"ticks\":\"\"}}}],\"histogram\":[{\"marker\":{\"pattern\":{\"fillmode\":\"overlay\",\"size\":10,\"solidity\":0.2}},\"type\":\"histogram\"}],\"scattergl\":[{\"type\":\"scattergl\",\"marker\":{\"colorbar\":{\"outlinewidth\":0,\"ticks\":\"\"}}}],\"scatter3d\":[{\"type\":\"scatter3d\",\"line\":{\"colorbar\":{\"outlinewidth\":0,\"ticks\":\"\"}},\"marker\":{\"colorbar\":{\"outlinewidth\":0,\"ticks\":\"\"}}}],\"scattermapbox\":[{\"type\":\"scattermapbox\",\"marker\":{\"colorbar\":{\"outlinewidth\":0,\"ticks\":\"\"}}}],\"scatterternary\":[{\"type\":\"scatterternary\",\"marker\":{\"colorbar\":{\"outlinewidth\":0,\"ticks\":\"\"}}}],\"scattercarpet\":[{\"type\":\"scattercarpet\",\"marker\":{\"colorbar\":{\"outlinewidth\":0,\"ticks\":\"\"}}}],\"carpet\":[{\"aaxis\":{\"endlinecolor\":\"#2a3f5f\",\"gridcolor\":\"white\",\"linecolor\":\"white\",\"minorgridcolor\":\"white\",\"startlinecolor\":\"#2a3f5f\"},\"baxis\":{\"endlinecolor\":\"#2a3f5f\",\"gridcolor\":\"white\",\"linecolor\":\"white\",\"minorgridcolor\":\"white\",\"startlinecolor\":\"#2a3f5f\"},\"type\":\"carpet\"}],\"table\":[{\"cells\":{\"fill\":{\"color\":\"#EBF0F8\"},\"line\":{\"color\":\"white\"}},\"header\":{\"fill\":{\"color\":\"#C8D4E3\"},\"line\":{\"color\":\"white\"}},\"type\":\"table\"}],\"barpolar\":[{\"marker\":{\"line\":{\"color\":\"#E5ECF6\",\"width\":0.5},\"pattern\":{\"fillmode\":\"overlay\",\"size\":10,\"solidity\":0.2}},\"type\":\"barpolar\"}],\"pie\":[{\"automargin\":true,\"type\":\"pie\"}]},\"layout\":{\"autotypenumbers\":\"strict\",\"colorway\":[\"#636efa\",\"#EF553B\",\"#00cc96\",\"#ab63fa\",\"#FFA15A\",\"#19d3f3\",\"#FF6692\",\"#B6E880\",\"#FF97FF\",\"#FECB52\"],\"font\":{\"color\":\"#2a3f5f\"},\"hovermode\":\"closest\",\"hoverlabel\":{\"align\":\"left\"},\"paper_bgcolor\":\"white\",\"plot_bgcolor\":\"#E5ECF6\",\"polar\":{\"bgcolor\":\"#E5ECF6\",\"angularaxis\":{\"gridcolor\":\"white\",\"linecolor\":\"white\",\"ticks\":\"\"},\"radialaxis\":{\"gridcolor\":\"white\",\"linecolor\":\"white\",\"ticks\":\"\"}},\"ternary\":{\"bgcolor\":\"#E5ECF6\",\"aaxis\":{\"gridcolor\":\"white\",\"linecolor\":\"white\",\"ticks\":\"\"},\"baxis\":{\"gridcolor\":\"white\",\"linecolor\":\"white\",\"ticks\":\"\"},\"caxis\":{\"gridcolor\":\"white\",\"linecolor\":\"white\",\"ticks\":\"\"}},\"coloraxis\":{\"colorbar\":{\"outlinewidth\":0,\"ticks\":\"\"}},\"colorscale\":{\"sequential\":[[0.0,\"#0d0887\"],[0.1111111111111111,\"#46039f\"],[0.2222222222222222,\"#7201a8\"],[0.3333333333333333,\"#9c179e\"],[0.4444444444444444,\"#bd3786\"],[0.5555555555555556,\"#d8576b\"],[0.6666666666666666,\"#ed7953\"],[0.7777777777777778,\"#fb9f3a\"],[0.8888888888888888,\"#fdca26\"],[1.0,\"#f0f921\"]],\"sequentialminus\":[[0.0,\"#0d0887\"],[0.1111111111111111,\"#46039f\"],[0.2222222222222222,\"#7201a8\"],[0.3333333333333333,\"#9c179e\"],[0.4444444444444444,\"#bd3786\"],[0.5555555555555556,\"#d8576b\"],[0.6666666666666666,\"#ed7953\"],[0.7777777777777778,\"#fb9f3a\"],[0.8888888888888888,\"#fdca26\"],[1.0,\"#f0f921\"]],\"diverging\":[[0,\"#8e0152\"],[0.1,\"#c51b7d\"],[0.2,\"#de77ae\"],[0.3,\"#f1b6da\"],[0.4,\"#fde0ef\"],[0.5,\"#f7f7f7\"],[0.6,\"#e6f5d0\"],[0.7,\"#b8e186\"],[0.8,\"#7fbc41\"],[0.9,\"#4d9221\"],[1,\"#276419\"]]},\"xaxis\":{\"gridcolor\":\"white\",\"linecolor\":\"white\",\"ticks\":\"\",\"title\":{\"standoff\":15},\"zerolinecolor\":\"white\",\"automargin\":true,\"zerolinewidth\":2},\"yaxis\":{\"gridcolor\":\"white\",\"linecolor\":\"white\",\"ticks\":\"\",\"title\":{\"standoff\":15},\"zerolinecolor\":\"white\",\"automargin\":true,\"zerolinewidth\":2},\"scene\":{\"xaxis\":{\"backgroundcolor\":\"#E5ECF6\",\"gridcolor\":\"white\",\"linecolor\":\"white\",\"showbackground\":true,\"ticks\":\"\",\"zerolinecolor\":\"white\",\"gridwidth\":2},\"yaxis\":{\"backgroundcolor\":\"#E5ECF6\",\"gridcolor\":\"white\",\"linecolor\":\"white\",\"showbackground\":true,\"ticks\":\"\",\"zerolinecolor\":\"white\",\"gridwidth\":2},\"zaxis\":{\"backgroundcolor\":\"#E5ECF6\",\"gridcolor\":\"white\",\"linecolor\":\"white\",\"showbackground\":true,\"ticks\":\"\",\"zerolinecolor\":\"white\",\"gridwidth\":2}},\"shapedefaults\":{\"line\":{\"color\":\"#2a3f5f\"}},\"annotationdefaults\":{\"arrowcolor\":\"#2a3f5f\",\"arrowhead\":0,\"arrowwidth\":1},\"geo\":{\"bgcolor\":\"white\",\"landcolor\":\"#E5ECF6\",\"subunitcolor\":\"white\",\"showland\":true,\"showlakes\":true,\"lakecolor\":\"white\"},\"title\":{\"x\":0.05},\"mapbox\":{\"style\":\"light\"}}},\"annotations\":[{\"arrowhead\":1,\"showarrow\":false,\"text\":\"C\",\"x\":23886.962788603552,\"y\":458965.19999999995,\"yshift\":5},{\"arrowhead\":1,\"showarrow\":false,\"text\":\"C\",\"x\":24266.990723396,\"y\":73195.13,\"yshift\":5},{\"arrowhead\":1,\"showarrow\":false,\"text\":\"C\",\"x\":24572.18462873465,\"y\":108646.83,\"yshift\":5},{\"arrowhead\":1,\"showarrow\":false,\"text\":\"C\",\"x\":24515.24049113415,\"y\":121423.285,\"yshift\":5},{\"arrowhead\":1,\"showarrow\":false,\"text\":\"C\",\"x\":24502.079346076098,\"y\":75942.025,\"yshift\":5},{\"arrowhead\":1,\"showarrow\":false,\"text\":\"C\",\"x\":24620.1483370477,\"y\":30237.86,\"yshift\":5},{\"arrowhead\":1,\"showarrow\":false,\"text\":\"A\",\"x\":24422.1254454864,\"y\":104077.25499999999,\"yshift\":5},{\"arrowhead\":1,\"showarrow\":false,\"text\":\"A\",\"x\":24641.2392241461,\"y\":41873.935,\"yshift\":5},{\"arrowhead\":1,\"showarrow\":false,\"text\":\"A\",\"x\":24312.9986180957,\"y\":31506.755,\"yshift\":5},{\"arrowhead\":1,\"showarrow\":false,\"text\":\"A\",\"x\":24312.10401775945,\"y\":35806.89,\"yshift\":5},{\"arrowhead\":1,\"showarrow\":false,\"text\":\"A\",\"x\":24472.02946704825,\"y\":79624.53,\"yshift\":5},{\"arrowhead\":1,\"showarrow\":false,\"text\":\"A\",\"x\":23949.944994241152,\"y\":28616.160000000003,\"yshift\":5},{\"arrowhead\":1,\"showarrow\":false,\"text\":\"A\",\"x\":24751.14168420955,\"y\":101756.62999999999,\"yshift\":5},{\"arrowhead\":1,\"showarrow\":false,\"text\":\"A\",\"x\":24368.0651046297,\"y\":15916.32,\"yshift\":5},{\"arrowhead\":1,\"showarrow\":false,\"text\":\"Ox\",\"x\":23670.436717430603,\"y\":184834.94,\"yshift\":5},{\"arrowhead\":1,\"showarrow\":false,\"text\":\"Ox\",\"x\":24578.674914965,\"y\":126990.045,\"yshift\":5},{\"arrowhead\":1,\"showarrow\":false,\"text\":\"Ox\",\"x\":24139.50649428545,\"y\":29101.275,\"yshift\":5},{\"arrowhead\":1,\"showarrow\":false,\"text\":\"Ox\",\"x\":24123.456561413448,\"y\":121666.405,\"yshift\":5},{\"arrowhead\":1,\"showarrow\":false,\"text\":\"Ox\",\"x\":27605.94544713365,\"y\":20840.949999999997,\"yshift\":5},{\"arrowhead\":1,\"showarrow\":false,\"text\":\"Ox\",\"x\":24524.617665942453,\"y\":42023.545,\"yshift\":5},{\"arrowhead\":1,\"showarrow\":false,\"text\":\"Me\",\"x\":24336.61077932285,\"y\":120671.02500000001,\"yshift\":5},{\"arrowhead\":1,\"showarrow\":false,\"text\":\"Me\",\"x\":24356.602979021598,\"y\":96729.61499999999,\"yshift\":5},{\"arrowhead\":1,\"showarrow\":false,\"text\":\"Me\",\"x\":24023.358077862104,\"y\":64123.66500000001,\"yshift\":5},{\"arrowhead\":1,\"showarrow\":false,\"text\":\"Me\",\"x\":23768.355562750352,\"y\":45766.815,\"yshift\":5},{\"arrowhead\":1,\"showarrow\":false,\"text\":\"Me\",\"x\":24140.4989498294,\"y\":132523.475,\"yshift\":5},{\"arrowhead\":1,\"showarrow\":false,\"text\":\"Me\",\"x\":27568.8931504459,\"y\":8151.5650000000005,\"yshift\":5},{\"arrowhead\":1,\"showarrow\":false,\"text\":\"Me\",\"x\":27514.992650889202,\"y\":4425.08,\"yshift\":5},{\"arrowhead\":1,\"showarrow\":false,\"text\":\"Me\",\"x\":24785.7498047742,\"y\":4402.594999999999,\"yshift\":5},{\"arrowhead\":1,\"showarrow\":false,\"text\":\"2*Me\",\"x\":24453.58232438875,\"y\":103746.315,\"yshift\":5},{\"arrowhead\":1,\"showarrow\":false,\"text\":\"2*Me\",\"x\":24583.69894448625,\"y\":59730.585,\"yshift\":5},{\"arrowhead\":1,\"showarrow\":false,\"text\":\"2*Me\",\"x\":23648.44814345875,\"y\":28796.595,\"yshift\":5},{\"arrowhead\":1,\"showarrow\":false,\"text\":\"2*Me\",\"x\":23994.53491142985,\"y\":371751.49500000005,\"yshift\":5},{\"arrowhead\":1,\"showarrow\":false,\"text\":\"2*Me\",\"x\":24462.6173757352,\"y\":62005.725,\"yshift\":5},{\"arrowhead\":1,\"showarrow\":false,\"text\":\"2*Me\",\"x\":24546.66394760575,\"y\":22386.47,\"yshift\":5},{\"arrowhead\":1,\"showarrow\":false,\"text\":\"2*Me\",\"x\":23896.4333442341,\"y\":43253.485,\"yshift\":5},{\"arrowhead\":1,\"showarrow\":false,\"text\":\"2*Me\",\"x\":23738.386252435303,\"y\":22650.704999999998,\"yshift\":5},{\"arrowhead\":1,\"showarrow\":false,\"text\":\"2*Me\",\"x\":27516.010935736747,\"y\":11123.51,\"yshift\":5},{\"arrowhead\":1,\"showarrow\":false,\"text\":\"2*Me\",\"x\":23876.421053076898,\"y\":46766.32,\"yshift\":5}],\"title\":{\"text\":\"Homology Search Result\"}},                        {\"responsive\": true}                    ).then(function(){\n",
              "                            \n",
              "var gd = document.getElementById('9fe986b0-655c-4bea-8098-6911b524dd6b');\n",
              "var x = new MutationObserver(function (mutations, observer) {{\n",
              "        var display = window.getComputedStyle(gd).display;\n",
              "        if (!display || display === 'none') {{\n",
              "            console.log([gd, 'removed!']);\n",
              "            Plotly.purge(gd);\n",
              "            observer.disconnect();\n",
              "        }}\n",
              "}});\n",
              "\n",
              "// Listen for the removal of the full notebook cells\n",
              "var notebookContainer = gd.closest('#notebook-container');\n",
              "if (notebookContainer) {{\n",
              "    x.observe(notebookContainer, {childList: true});\n",
              "}}\n",
              "\n",
              "// Listen for the clearing of the current output cell\n",
              "var outputEl = gd.closest('.output');\n",
              "if (outputEl) {{\n",
              "    x.observe(outputEl, {childList: true});\n",
              "}}\n",
              "\n",
              "                        })                };                            </script>        </div>\n",
              "</body>\n",
              "</html>"
            ]
          },
          "metadata": {}
        }
      ],
      "source": [
        "bcr = homology_search(df_ctrl)\n",
        "plotly_basecalling(*bcr, y='Vol', title='Homology Search Result')"
      ]
    },
    {
      "cell_type": "code",
      "execution_count": 16,
      "id": "animated-parks",
      "metadata": {
        "id": "animated-parks",
        "outputId": "4f399d6f-56cd-4dab-d0a2-f96293404ca2",
        "colab": {
          "base_uri": "https://localhost:8080/"
        }
      },
      "outputs": [
        {
          "output_type": "stream",
          "name": "stdout",
          "text": [
            "          Mass         RT           Vol          RA         FA\n",
            "0   731.935309  19.899562  1.792981e+09  100.000000  15.318711\n",
            "3   573.989319   9.599520  1.187675e+09   66.240259  10.147154\n",
            "6   915.901849  19.899562  1.055336e+09   58.859309   9.016488\n",
            "9   741.990509   9.599520  6.282201e+08   35.037738   5.367330\n",
            "12  921.918799  19.899562  4.144928e+08   23.117521   3.541306\n"
          ]
        }
      ],
      "source": [
        "df = load_data('/content/drive/MyDrive/MLC-Seq-main/samples/20230428_total_30min_04202303.xlsx') # sample 1\n",
        "df2 = load_data('/content/drive/MyDrive/MLC-Seq-main/samples/20230428_total_0min_04192308.xlsx') # sample 2\n",
        "#print(df2.head())"
      ]
    },
    {
      "cell_type": "code",
      "execution_count": 23,
      "id": "sunset-diary",
      "metadata": {
        "id": "sunset-diary",
        "outputId": "c9586738-0576-49b9-f394-6cfdb0edbb10",
        "colab": {
          "base_uri": "https://localhost:8080/",
          "height": 542
        }
      },
      "outputs": [
        {
          "output_type": "display_data",
          "data": {
            "text/html": [
              "<html>\n",
              "<head><meta charset=\"utf-8\" /></head>\n",
              "<body>\n",
              "    <div>            <script src=\"https://cdnjs.cloudflare.com/ajax/libs/mathjax/2.7.5/MathJax.js?config=TeX-AMS-MML_SVG\"></script><script type=\"text/javascript\">if (window.MathJax && window.MathJax.Hub && window.MathJax.Hub.Config) {window.MathJax.Hub.Config({SVG: {font: \"STIX-Web\"}});}</script>                <script type=\"text/javascript\">window.PlotlyConfig = {MathJaxConfig: 'local'};</script>\n",
              "        <script charset=\"utf-8\" src=\"https://cdn.plot.ly/plotly-2.35.2.min.js\"></script>                <div id=\"0672bf09-abfa-4634-8f46-e9bf52868049\" class=\"plotly-graph-div\" style=\"height:525px; width:100%;\"></div>            <script type=\"text/javascript\">                                    window.PLOTLYENV=window.PLOTLYENV || {};                                    if (document.getElementById(\"0672bf09-abfa-4634-8f46-e9bf52868049\")) {                    Plotly.newPlot(                        \"0672bf09-abfa-4634-8f46-e9bf52868049\",                        [{\"mode\":\"markers\",\"x\":[],\"y\":[],\"type\":\"scatter\"}],                        {\"template\":{\"data\":{\"histogram2dcontour\":[{\"type\":\"histogram2dcontour\",\"colorbar\":{\"outlinewidth\":0,\"ticks\":\"\"},\"colorscale\":[[0.0,\"#0d0887\"],[0.1111111111111111,\"#46039f\"],[0.2222222222222222,\"#7201a8\"],[0.3333333333333333,\"#9c179e\"],[0.4444444444444444,\"#bd3786\"],[0.5555555555555556,\"#d8576b\"],[0.6666666666666666,\"#ed7953\"],[0.7777777777777778,\"#fb9f3a\"],[0.8888888888888888,\"#fdca26\"],[1.0,\"#f0f921\"]]}],\"choropleth\":[{\"type\":\"choropleth\",\"colorbar\":{\"outlinewidth\":0,\"ticks\":\"\"}}],\"histogram2d\":[{\"type\":\"histogram2d\",\"colorbar\":{\"outlinewidth\":0,\"ticks\":\"\"},\"colorscale\":[[0.0,\"#0d0887\"],[0.1111111111111111,\"#46039f\"],[0.2222222222222222,\"#7201a8\"],[0.3333333333333333,\"#9c179e\"],[0.4444444444444444,\"#bd3786\"],[0.5555555555555556,\"#d8576b\"],[0.6666666666666666,\"#ed7953\"],[0.7777777777777778,\"#fb9f3a\"],[0.8888888888888888,\"#fdca26\"],[1.0,\"#f0f921\"]]}],\"heatmap\":[{\"type\":\"heatmap\",\"colorbar\":{\"outlinewidth\":0,\"ticks\":\"\"},\"colorscale\":[[0.0,\"#0d0887\"],[0.1111111111111111,\"#46039f\"],[0.2222222222222222,\"#7201a8\"],[0.3333333333333333,\"#9c179e\"],[0.4444444444444444,\"#bd3786\"],[0.5555555555555556,\"#d8576b\"],[0.6666666666666666,\"#ed7953\"],[0.7777777777777778,\"#fb9f3a\"],[0.8888888888888888,\"#fdca26\"],[1.0,\"#f0f921\"]]}],\"heatmapgl\":[{\"type\":\"heatmapgl\",\"colorbar\":{\"outlinewidth\":0,\"ticks\":\"\"},\"colorscale\":[[0.0,\"#0d0887\"],[0.1111111111111111,\"#46039f\"],[0.2222222222222222,\"#7201a8\"],[0.3333333333333333,\"#9c179e\"],[0.4444444444444444,\"#bd3786\"],[0.5555555555555556,\"#d8576b\"],[0.6666666666666666,\"#ed7953\"],[0.7777777777777778,\"#fb9f3a\"],[0.8888888888888888,\"#fdca26\"],[1.0,\"#f0f921\"]]}],\"contourcarpet\":[{\"type\":\"contourcarpet\",\"colorbar\":{\"outlinewidth\":0,\"ticks\":\"\"}}],\"contour\":[{\"type\":\"contour\",\"colorbar\":{\"outlinewidth\":0,\"ticks\":\"\"},\"colorscale\":[[0.0,\"#0d0887\"],[0.1111111111111111,\"#46039f\"],[0.2222222222222222,\"#7201a8\"],[0.3333333333333333,\"#9c179e\"],[0.4444444444444444,\"#bd3786\"],[0.5555555555555556,\"#d8576b\"],[0.6666666666666666,\"#ed7953\"],[0.7777777777777778,\"#fb9f3a\"],[0.8888888888888888,\"#fdca26\"],[1.0,\"#f0f921\"]]}],\"surface\":[{\"type\":\"surface\",\"colorbar\":{\"outlinewidth\":0,\"ticks\":\"\"},\"colorscale\":[[0.0,\"#0d0887\"],[0.1111111111111111,\"#46039f\"],[0.2222222222222222,\"#7201a8\"],[0.3333333333333333,\"#9c179e\"],[0.4444444444444444,\"#bd3786\"],[0.5555555555555556,\"#d8576b\"],[0.6666666666666666,\"#ed7953\"],[0.7777777777777778,\"#fb9f3a\"],[0.8888888888888888,\"#fdca26\"],[1.0,\"#f0f921\"]]}],\"mesh3d\":[{\"type\":\"mesh3d\",\"colorbar\":{\"outlinewidth\":0,\"ticks\":\"\"}}],\"scatter\":[{\"fillpattern\":{\"fillmode\":\"overlay\",\"size\":10,\"solidity\":0.2},\"type\":\"scatter\"}],\"parcoords\":[{\"type\":\"parcoords\",\"line\":{\"colorbar\":{\"outlinewidth\":0,\"ticks\":\"\"}}}],\"scatterpolargl\":[{\"type\":\"scatterpolargl\",\"marker\":{\"colorbar\":{\"outlinewidth\":0,\"ticks\":\"\"}}}],\"bar\":[{\"error_x\":{\"color\":\"#2a3f5f\"},\"error_y\":{\"color\":\"#2a3f5f\"},\"marker\":{\"line\":{\"color\":\"#E5ECF6\",\"width\":0.5},\"pattern\":{\"fillmode\":\"overlay\",\"size\":10,\"solidity\":0.2}},\"type\":\"bar\"}],\"scattergeo\":[{\"type\":\"scattergeo\",\"marker\":{\"colorbar\":{\"outlinewidth\":0,\"ticks\":\"\"}}}],\"scatterpolar\":[{\"type\":\"scatterpolar\",\"marker\":{\"colorbar\":{\"outlinewidth\":0,\"ticks\":\"\"}}}],\"histogram\":[{\"marker\":{\"pattern\":{\"fillmode\":\"overlay\",\"size\":10,\"solidity\":0.2}},\"type\":\"histogram\"}],\"scattergl\":[{\"type\":\"scattergl\",\"marker\":{\"colorbar\":{\"outlinewidth\":0,\"ticks\":\"\"}}}],\"scatter3d\":[{\"type\":\"scatter3d\",\"line\":{\"colorbar\":{\"outlinewidth\":0,\"ticks\":\"\"}},\"marker\":{\"colorbar\":{\"outlinewidth\":0,\"ticks\":\"\"}}}],\"scattermapbox\":[{\"type\":\"scattermapbox\",\"marker\":{\"colorbar\":{\"outlinewidth\":0,\"ticks\":\"\"}}}],\"scatterternary\":[{\"type\":\"scatterternary\",\"marker\":{\"colorbar\":{\"outlinewidth\":0,\"ticks\":\"\"}}}],\"scattercarpet\":[{\"type\":\"scattercarpet\",\"marker\":{\"colorbar\":{\"outlinewidth\":0,\"ticks\":\"\"}}}],\"carpet\":[{\"aaxis\":{\"endlinecolor\":\"#2a3f5f\",\"gridcolor\":\"white\",\"linecolor\":\"white\",\"minorgridcolor\":\"white\",\"startlinecolor\":\"#2a3f5f\"},\"baxis\":{\"endlinecolor\":\"#2a3f5f\",\"gridcolor\":\"white\",\"linecolor\":\"white\",\"minorgridcolor\":\"white\",\"startlinecolor\":\"#2a3f5f\"},\"type\":\"carpet\"}],\"table\":[{\"cells\":{\"fill\":{\"color\":\"#EBF0F8\"},\"line\":{\"color\":\"white\"}},\"header\":{\"fill\":{\"color\":\"#C8D4E3\"},\"line\":{\"color\":\"white\"}},\"type\":\"table\"}],\"barpolar\":[{\"marker\":{\"line\":{\"color\":\"#E5ECF6\",\"width\":0.5},\"pattern\":{\"fillmode\":\"overlay\",\"size\":10,\"solidity\":0.2}},\"type\":\"barpolar\"}],\"pie\":[{\"automargin\":true,\"type\":\"pie\"}]},\"layout\":{\"autotypenumbers\":\"strict\",\"colorway\":[\"#636efa\",\"#EF553B\",\"#00cc96\",\"#ab63fa\",\"#FFA15A\",\"#19d3f3\",\"#FF6692\",\"#B6E880\",\"#FF97FF\",\"#FECB52\"],\"font\":{\"color\":\"#2a3f5f\"},\"hovermode\":\"closest\",\"hoverlabel\":{\"align\":\"left\"},\"paper_bgcolor\":\"white\",\"plot_bgcolor\":\"#E5ECF6\",\"polar\":{\"bgcolor\":\"#E5ECF6\",\"angularaxis\":{\"gridcolor\":\"white\",\"linecolor\":\"white\",\"ticks\":\"\"},\"radialaxis\":{\"gridcolor\":\"white\",\"linecolor\":\"white\",\"ticks\":\"\"}},\"ternary\":{\"bgcolor\":\"#E5ECF6\",\"aaxis\":{\"gridcolor\":\"white\",\"linecolor\":\"white\",\"ticks\":\"\"},\"baxis\":{\"gridcolor\":\"white\",\"linecolor\":\"white\",\"ticks\":\"\"},\"caxis\":{\"gridcolor\":\"white\",\"linecolor\":\"white\",\"ticks\":\"\"}},\"coloraxis\":{\"colorbar\":{\"outlinewidth\":0,\"ticks\":\"\"}},\"colorscale\":{\"sequential\":[[0.0,\"#0d0887\"],[0.1111111111111111,\"#46039f\"],[0.2222222222222222,\"#7201a8\"],[0.3333333333333333,\"#9c179e\"],[0.4444444444444444,\"#bd3786\"],[0.5555555555555556,\"#d8576b\"],[0.6666666666666666,\"#ed7953\"],[0.7777777777777778,\"#fb9f3a\"],[0.8888888888888888,\"#fdca26\"],[1.0,\"#f0f921\"]],\"sequentialminus\":[[0.0,\"#0d0887\"],[0.1111111111111111,\"#46039f\"],[0.2222222222222222,\"#7201a8\"],[0.3333333333333333,\"#9c179e\"],[0.4444444444444444,\"#bd3786\"],[0.5555555555555556,\"#d8576b\"],[0.6666666666666666,\"#ed7953\"],[0.7777777777777778,\"#fb9f3a\"],[0.8888888888888888,\"#fdca26\"],[1.0,\"#f0f921\"]],\"diverging\":[[0,\"#8e0152\"],[0.1,\"#c51b7d\"],[0.2,\"#de77ae\"],[0.3,\"#f1b6da\"],[0.4,\"#fde0ef\"],[0.5,\"#f7f7f7\"],[0.6,\"#e6f5d0\"],[0.7,\"#b8e186\"],[0.8,\"#7fbc41\"],[0.9,\"#4d9221\"],[1,\"#276419\"]]},\"xaxis\":{\"gridcolor\":\"white\",\"linecolor\":\"white\",\"ticks\":\"\",\"title\":{\"standoff\":15},\"zerolinecolor\":\"white\",\"automargin\":true,\"zerolinewidth\":2},\"yaxis\":{\"gridcolor\":\"white\",\"linecolor\":\"white\",\"ticks\":\"\",\"title\":{\"standoff\":15},\"zerolinecolor\":\"white\",\"automargin\":true,\"zerolinewidth\":2},\"scene\":{\"xaxis\":{\"backgroundcolor\":\"#E5ECF6\",\"gridcolor\":\"white\",\"linecolor\":\"white\",\"showbackground\":true,\"ticks\":\"\",\"zerolinecolor\":\"white\",\"gridwidth\":2},\"yaxis\":{\"backgroundcolor\":\"#E5ECF6\",\"gridcolor\":\"white\",\"linecolor\":\"white\",\"showbackground\":true,\"ticks\":\"\",\"zerolinecolor\":\"white\",\"gridwidth\":2},\"zaxis\":{\"backgroundcolor\":\"#E5ECF6\",\"gridcolor\":\"white\",\"linecolor\":\"white\",\"showbackground\":true,\"ticks\":\"\",\"zerolinecolor\":\"white\",\"gridwidth\":2}},\"shapedefaults\":{\"line\":{\"color\":\"#2a3f5f\"}},\"annotationdefaults\":{\"arrowcolor\":\"#2a3f5f\",\"arrowhead\":0,\"arrowwidth\":1},\"geo\":{\"bgcolor\":\"white\",\"landcolor\":\"#E5ECF6\",\"subunitcolor\":\"white\",\"showland\":true,\"showlakes\":true,\"lakecolor\":\"white\"},\"title\":{\"x\":0.05},\"mapbox\":{\"style\":\"light\"}}},\"title\":{\"text\":\"Homology Search Result of Degraded Sample\"}},                        {\"responsive\": true}                    ).then(function(){\n",
              "                            \n",
              "var gd = document.getElementById('0672bf09-abfa-4634-8f46-e9bf52868049');\n",
              "var x = new MutationObserver(function (mutations, observer) {{\n",
              "        var display = window.getComputedStyle(gd).display;\n",
              "        if (!display || display === 'none') {{\n",
              "            console.log([gd, 'removed!']);\n",
              "            Plotly.purge(gd);\n",
              "            observer.disconnect();\n",
              "        }}\n",
              "}});\n",
              "\n",
              "// Listen for the removal of the full notebook cells\n",
              "var notebookContainer = gd.closest('#notebook-container');\n",
              "if (notebookContainer) {{\n",
              "    x.observe(notebookContainer, {childList: true});\n",
              "}}\n",
              "\n",
              "// Listen for the clearing of the current output cell\n",
              "var outputEl = gd.closest('.output');\n",
              "if (outputEl) {{\n",
              "    x.observe(outputEl, {childList: true});\n",
              "}}\n",
              "\n",
              "                        })                };                            </script>        </div>\n",
              "</body>\n",
              "</html>"
            ]
          },
          "metadata": {}
        }
      ],
      "source": [
        "\"\"\"iloc[:10] takes the first 10 compounds from the list sorted in the descending order of\n",
        "intensity. Replace 10 with other numbers if more or less compounds are desired.\n",
        "\"\"\"\n",
        "df_deg_top = df[df.Mass>23000].sort_values('Vol', ascending=False).iloc[:10]\n",
        "homo_deg = homology_search(df_deg_top)\n",
        "plotly_basecalling(*homo_deg, y='Vol', title=\"Homology Search Result of Degraded Sample\")\n",
        "df_homo_deg = homo_deg[0]"
      ]
    },
    {
      "cell_type": "code",
      "execution_count": null,
      "id": "global-growing",
      "metadata": {
        "id": "global-growing"
      },
      "outputs": [],
      "source": [
        "# To easily demonstrate the concept, here we just load the data we selected in advance.\n",
        "df_5p = load_data('./data/phe5p.xlsx')\n",
        "df_3p = load_data('./data/phe3p.xlsx')\n",
        "\n",
        "df_common = match_dfs(df_5p, df_3p)\n",
        "plotly_multi_zones([df_5p, df_3p, df_common],\n",
        "                   names=[\"5´ Data\", \"3´ Data\", \"Overlapped Data\"],\n",
        "                   title=\"Manually Divided Data\")"
      ]
    },
    {
      "cell_type": "code",
      "execution_count": null,
      "id": "unlikely-appraisal",
      "metadata": {
        "id": "unlikely-appraisal"
      },
      "outputs": [],
      "source": [
        "sampling_num = 1000\n",
        "\n",
        "df_5p_top = df_5p.sort_values('Vol', ascending=False).iloc[:sampling_num]\n",
        "df_3p_top = df_3p.sort_values('Vol', ascending=False).iloc[:sampling_num]\n",
        "\n",
        "plotly_zones(df_5p_top, df_3p_top,\n",
        "             names=[\"5´ Filtered Data\", \"3´ Filtered Data\"],\n",
        "             title='Filtered Data')"
      ]
    },
    {
      "cell_type": "code",
      "execution_count": null,
      "id": "empty-preference",
      "metadata": {
        "id": "empty-preference"
      },
      "outputs": [],
      "source": [
        "isoform_idx = 0\n",
        "\n",
        "full_mass = df_homo_deg.sort_values('Vol', ascending=False).iloc[isoform_idx].Mass\n",
        "df_masssum_3p, df_masssum_5p = mass_sum(df_3p_top, df_5p_top, full_mass=full_mass)\n",
        "plotly_zones(df_masssum_5p, df_masssum_3p,\n",
        "             names=[\"5´ Data\", \"3´ Data\"],\n",
        "             title='MassSum Result')"
      ]
    },
    {
      "cell_type": "code",
      "execution_count": null,
      "id": "sustained-ozone",
      "metadata": {
        "id": "sustained-ozone"
      },
      "outputs": [],
      "source": [
        "%%capture\n",
        "\n",
        "# GapFill for 5´ ladder\n",
        "fullmass_dot = df_5p[(df_5p.Mass>full_mass-0.1) & (df_5p.Mass<full_mass+0.1)]\n",
        "df_gap_5p = gap_fill(df_5p, df_masssum_5p, fullmass_dot, major=True, orientation=5)\n",
        "\n",
        "# GapFill for 3´ ladder\n",
        "fullmass_dot = df_3p[(df_3p.Mass>full_mass-0.1) & (df_3p.Mass<full_mass+0.1)]\n",
        "df_gap_3p = gap_fill(df_3p, df_masssum_3p, fullmass_dot, major=True, orientation=3)"
      ]
    },
    {
      "cell_type": "code",
      "execution_count": null,
      "id": "multiple-aside",
      "metadata": {
        "id": "multiple-aside"
      },
      "outputs": [],
      "source": [
        "# Now we already have two ladders, just combine their skeleton dots with gap dots.\n",
        "df_ladder_5p = pd.concat([df_masssum_5p, df_gap_5p]).reset_index()\n",
        "df_ladder_3p = pd.concat([df_masssum_3p, df_gap_3p]).reset_index()\n",
        "plotly_zones(df_ladder_5p, df_ladder_3p,\n",
        "             names=[\"5´ Data\", \"3´ Data\"],\n",
        "             title='GapFill Result')"
      ]
    },
    {
      "cell_type": "code",
      "execution_count": null,
      "id": "unauthorized-bruce",
      "metadata": {
        "id": "unauthorized-bruce"
      },
      "outputs": [],
      "source": [
        "ladder1 = Ladder(df_ladder_5p, full_mass, 5)\n",
        "ladder2 = Ladder(df_ladder_3p, full_mass, 3)\n",
        "ladders = [ladder1, ladder2]\n",
        "df_ladder_comp = ladder_complementation(ladders)\n",
        "print('Ladder Complementation Result')\n",
        "df_ladder_comp.to_excel('../outputs/ladder_comp_res_lite.xlsx')\n",
        "df_ladder_comp.iloc[10:70]"
      ]
    },
    {
      "cell_type": "code",
      "execution_count": null,
      "id": "mysterious-consistency",
      "metadata": {
        "id": "mysterious-consistency"
      },
      "outputs": [],
      "source": []
    }
  ],
  "metadata": {
    "kernelspec": {
      "display_name": "Python 3",
      "language": "python",
      "name": "python3"
    },
    "language_info": {
      "codemirror_mode": {
        "name": "ipython",
        "version": 3
      },
      "file_extension": ".py",
      "mimetype": "text/x-python",
      "name": "python",
      "nbconvert_exporter": "python",
      "pygments_lexer": "ipython3",
      "version": "3.7.3"
    },
    "colab": {
      "provenance": []
    }
  },
  "nbformat": 4,
  "nbformat_minor": 5
}